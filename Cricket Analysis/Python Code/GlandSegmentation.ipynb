{
 "cells": [
  {
   "cell_type": "code",
   "execution_count": null,
   "metadata": {
    "id": "9D5Uzc57Dvxf"
   },
   "outputs": [],
   "source": [
    "# Import Libraries & Modules\n",
    "\n",
    "import os\n",
    "import random\n",
    "import glob\n",
    "from PIL import Image, ImageOps\n",
    "import numpy as np\n",
    "from tensorflow.keras.models import load_model\n",
    "import matplotlib\n",
    "import matplotlib.pyplot as plt\n",
    "import cv2\n",
    "import os\n",
    "import imageio as io\n",
    "from skimage.transform import rotate\n",
    "import random\n",
    "from google.colab import drive"
   ]
  },
  {
   "cell_type": "code",
   "execution_count": null,
   "metadata": {
    "id": "t0cnFhJED3t2"
   },
   "outputs": [],
   "source": [
    "# Utility Functions\n",
    "\n",
    "def display_image(img):\n",
    "    plt.imshow(img)\n",
    "    plt.show()\n",
    "\n",
    "def remove_alpha_channel(img):\n",
    "    if img.shape[2] == 4:\n",
    "        img = img[:,:,:3]\n",
    "    return img\n",
    "\n",
    "def image_resizer_cv2(img,resize_len):\n",
    "    img = cv2.resize(img, (resize_len, resize_len))\n",
    "    return img\n",
    "\n",
    "def convert_rgb_greyscale(img):\n",
    "    img = ImageOps.grayscale(img)\n",
    "    return img\n",
    "\n",
    "def mkdir(dir):\n",
    "    if not os.path.exists(dir):\n",
    "        os.makedirs(dir)\n",
    "\n",
    "def compute_dice_score(x,y):\n",
    "    k=1\n",
    "    denom = (np.sum(x) + np.sum(y))\n",
    "    if(denom==0):\n",
    "        return 1\n",
    "    return np.sum(x[y==k])*2.0 / denom\n",
    "\n",
    "def horizontal_flip(img):\n",
    "    return np.fliplr(img)\n",
    "\n",
    "def vertical_flip(img):\n",
    "    return np.flipud(img)\n",
    "\n",
    "def rotate_img(img,angle):\n",
    "    return rotate(img,angle)\n",
    "\n",
    "def random_crop(img, width, height):\n",
    "    x = random.randint(0, img.shape[1] - width)\n",
    "    y = random.randint(0, img.shape[0] - height)\n",
    "    img = img[y:y + height, x:x + width]\n",
    "    return img"
   ]
  },
  {
   "cell_type": "code",
   "execution_count": null,
   "metadata": {
    "colab": {
     "base_uri": "https://localhost:8080/",
     "height": 355
    },
    "id": "m8IcdK-sG8j0",
    "outputId": "d12bb6a1-b697-4383-d1bd-8c240a2b2044"
   },
   "outputs": [
    {
     "ename": "ValueError",
     "evalue": "ignored",
     "output_type": "error",
     "traceback": [
      "\u001b[0;31m---------------------------------------------------------------------------\u001b[0m",
      "\u001b[0;31mValueError\u001b[0m                                Traceback (most recent call last)",
      "\u001b[0;32m<ipython-input-4-75ddfb699917>\u001b[0m in \u001b[0;36m<cell line: 5>\u001b[0;34m()\u001b[0m\n\u001b[1;32m      3\u001b[0m \u001b[0;31m#Dataset link: https://drive.google.com/drive/folders/105YRKK7UwMImQi-m1_HgQu1EX8w7dexC?usp=sharing\u001b[0m\u001b[0;34m\u001b[0m\u001b[0;34m\u001b[0m\u001b[0m\n\u001b[1;32m      4\u001b[0m \u001b[0;34m\u001b[0m\u001b[0m\n\u001b[0;32m----> 5\u001b[0;31m \u001b[0mdrive\u001b[0m\u001b[0;34m.\u001b[0m\u001b[0mmount\u001b[0m\u001b[0;34m(\u001b[0m\u001b[0;34m'https://drive.google.com/drive/folders/1saQwzNH4wd5oZLJvd4cNZ89j1UVSjtrS?usp=drive_link'\u001b[0m\u001b[0;34m)\u001b[0m\u001b[0;34m\u001b[0m\u001b[0;34m\u001b[0m\u001b[0m\n\u001b[0m",
      "\u001b[0;32m/usr/local/lib/python3.10/dist-packages/google/colab/drive.py\u001b[0m in \u001b[0;36mmount\u001b[0;34m(mountpoint, force_remount, timeout_ms, readonly)\u001b[0m\n\u001b[1;32m     98\u001b[0m \u001b[0;32mdef\u001b[0m \u001b[0mmount\u001b[0m\u001b[0;34m(\u001b[0m\u001b[0mmountpoint\u001b[0m\u001b[0;34m,\u001b[0m \u001b[0mforce_remount\u001b[0m\u001b[0;34m=\u001b[0m\u001b[0;32mFalse\u001b[0m\u001b[0;34m,\u001b[0m \u001b[0mtimeout_ms\u001b[0m\u001b[0;34m=\u001b[0m\u001b[0;36m120000\u001b[0m\u001b[0;34m,\u001b[0m \u001b[0mreadonly\u001b[0m\u001b[0;34m=\u001b[0m\u001b[0;32mFalse\u001b[0m\u001b[0;34m)\u001b[0m\u001b[0;34m:\u001b[0m\u001b[0;34m\u001b[0m\u001b[0;34m\u001b[0m\u001b[0m\n\u001b[1;32m     99\u001b[0m   \u001b[0;34m\"\"\"Mount your Google Drive at the specified mountpoint path.\"\"\"\u001b[0m\u001b[0;34m\u001b[0m\u001b[0;34m\u001b[0m\u001b[0m\n\u001b[0;32m--> 100\u001b[0;31m   return _mount(\n\u001b[0m\u001b[1;32m    101\u001b[0m       \u001b[0mmountpoint\u001b[0m\u001b[0;34m,\u001b[0m\u001b[0;34m\u001b[0m\u001b[0;34m\u001b[0m\u001b[0m\n\u001b[1;32m    102\u001b[0m       \u001b[0mforce_remount\u001b[0m\u001b[0;34m=\u001b[0m\u001b[0mforce_remount\u001b[0m\u001b[0;34m,\u001b[0m\u001b[0;34m\u001b[0m\u001b[0;34m\u001b[0m\u001b[0m\n",
      "\u001b[0;32m/usr/local/lib/python3.10/dist-packages/google/colab/drive.py\u001b[0m in \u001b[0;36m_mount\u001b[0;34m(mountpoint, force_remount, timeout_ms, ephemeral, readonly)\u001b[0m\n\u001b[1;32m    192\u001b[0m     \u001b[0mnormed\u001b[0m \u001b[0;34m=\u001b[0m \u001b[0m_os\u001b[0m\u001b[0;34m.\u001b[0m\u001b[0mpath\u001b[0m\u001b[0;34m.\u001b[0m\u001b[0mnormpath\u001b[0m\u001b[0;34m(\u001b[0m\u001b[0mmountpoint\u001b[0m\u001b[0;34m)\u001b[0m\u001b[0;34m\u001b[0m\u001b[0;34m\u001b[0m\u001b[0m\n\u001b[1;32m    193\u001b[0m     \u001b[0;32mif\u001b[0m \u001b[0;34m'/'\u001b[0m \u001b[0;32min\u001b[0m \u001b[0mnormed\u001b[0m \u001b[0;32mand\u001b[0m \u001b[0;32mnot\u001b[0m \u001b[0m_os\u001b[0m\u001b[0;34m.\u001b[0m\u001b[0mpath\u001b[0m\u001b[0;34m.\u001b[0m\u001b[0mexists\u001b[0m\u001b[0;34m(\u001b[0m\u001b[0m_os\u001b[0m\u001b[0;34m.\u001b[0m\u001b[0mpath\u001b[0m\u001b[0;34m.\u001b[0m\u001b[0mdirname\u001b[0m\u001b[0;34m(\u001b[0m\u001b[0mnormed\u001b[0m\u001b[0;34m)\u001b[0m\u001b[0;34m)\u001b[0m\u001b[0;34m:\u001b[0m\u001b[0;34m\u001b[0m\u001b[0;34m\u001b[0m\u001b[0m\n\u001b[0;32m--> 194\u001b[0;31m       \u001b[0;32mraise\u001b[0m \u001b[0mValueError\u001b[0m\u001b[0;34m(\u001b[0m\u001b[0;34m'Mountpoint must be in a directory that exists'\u001b[0m\u001b[0;34m)\u001b[0m\u001b[0;34m\u001b[0m\u001b[0;34m\u001b[0m\u001b[0m\n\u001b[0m\u001b[1;32m    195\u001b[0m   \u001b[0;32mexcept\u001b[0m\u001b[0;34m:\u001b[0m\u001b[0;34m\u001b[0m\u001b[0;34m\u001b[0m\u001b[0m\n\u001b[1;32m    196\u001b[0m     \u001b[0md\u001b[0m\u001b[0;34m.\u001b[0m\u001b[0mkill\u001b[0m\u001b[0;34m(\u001b[0m\u001b[0m_signal\u001b[0m\u001b[0;34m.\u001b[0m\u001b[0mSIGKILL\u001b[0m\u001b[0;34m)\u001b[0m\u001b[0;34m\u001b[0m\u001b[0;34m\u001b[0m\u001b[0m\n",
      "\u001b[0;31mValueError\u001b[0m: Mountpoint must be in a directory that exists"
     ]
    }
   ],
   "source": [
    "#Mount dataset\n",
    "\n",
    "#Dataset link: https://drive.google.com/drive/folders/105YRKK7UwMImQi-m1_HgQu1EX8w7dexC?usp=sharing\n",
    "\n",
    "drive.mount('https://drive.google.com/drive/folders/1saQwzNH4wd5oZLJvd4cNZ89j1UVSjtrS?usp=drive_link')"
   ]
  },
  {
   "cell_type": "code",
   "execution_count": null,
   "metadata": {
    "id": "HO9YV6wkGF7o"
   },
   "outputs": [],
   "source": [
    "#Paths and Flags\n",
    "\n",
    "data_folder = \"/content/drive/MyDrive/GSDataset/GSDataset\"\n",
    "\n",
    "mode = \"train\"\n",
    "epochs = 1\n",
    "batch_size = 20\n",
    "traditional_augment = False"
   ]
  },
  {
   "cell_type": "code",
   "execution_count": null,
   "metadata": {
    "id": "MbsIdb2aER5v"
   },
   "outputs": [],
   "source": [
    "# Function to read images\n",
    "\n",
    "def read_images(image_path,mask_path):\n",
    "\n",
    "    image_pil = Image.open(image_path)\n",
    "    mask_pil = Image.open(mask_path)\n",
    "    imsize = mask_pil.size[0]\n",
    "\n",
    "    # convert mask to greyscale\n",
    "    mask_pil = convert_rgb_greyscale(mask_pil)\n",
    "\n",
    "    # Numpy\n",
    "    image = np.array(image_pil)\n",
    "    mask = np.array(mask_pil)\n",
    "\n",
    "    # Remove alpha channel of image\n",
    "    image = remove_alpha_channel(image)\n",
    "\n",
    "    # scale mask values to 0 and 255 only\n",
    "    mask[mask < 128] = 0\n",
    "    mask[mask >= 128] = 255\n",
    "\n",
    "    # normalize values to (0..1)\n",
    "    image = image / 255.0\n",
    "    mask = mask / 255.0\n",
    "\n",
    "    return image,mask"
   ]
  },
  {
   "cell_type": "code",
   "execution_count": null,
   "metadata": {
    "id": "n3a6AWo5E5T0"
   },
   "outputs": [],
   "source": [
    "from sklearn.model_selection import train_test_split\n",
    "\n",
    "# Function to load complete data\n",
    "\n",
    "def load_data(folder, mode='train'):\n",
    "\n",
    "    images_folder = os.path.join(folder,'images')\n",
    "    masks_folder = os.path.join(folder,'masks')\n",
    "\n",
    "    images = []\n",
    "    masks = []\n",
    "\n",
    "    mask_paths = glob.glob(os.path.join(masks_folder,\"*.png\"))\n",
    "\n",
    "    random_seed = 42\n",
    "    train_mask_paths, test_mask_paths = train_test_split(mask_paths, test_size=0.2, random_state=random_seed)\n",
    "\n",
    "    mask_paths = train_mask_paths if mode == 'train' else test_mask_paths\n",
    "\n",
    "    for mask_path in mask_paths:\n",
    "\n",
    "        imname = os.path.split(mask_path)[1]\n",
    "        image_path = os.path.join(images_folder,imname)\n",
    "        image,mask = read_images(image_path,mask_path)\n",
    "        images.append(image)\n",
    "        masks.append(mask)\n",
    "\n",
    "        if(mode=='train' and traditional_augment):\n",
    "\n",
    "            #Hotizontal flip\n",
    "            image_h = horizontal_flip(image)\n",
    "            mask_h = horizontal_flip(mask)\n",
    "            images.append(image_h)\n",
    "            masks.append(mask_h)\n",
    "\n",
    "            #Vertical flip\n",
    "            image_v = vertical_flip(image)\n",
    "            mask_v = vertical_flip(mask)\n",
    "            images.append(image_v)\n",
    "            masks.append(mask_v)\n",
    "\n",
    "            #Rotation\n",
    "            angle = random.randint(10,180)\n",
    "            image_r = rotate_img(image,angle)\n",
    "            mask_r = rotate_img(mask,angle)\n",
    "            images.append(image_r)\n",
    "            masks.append(mask_r)\n",
    "\n",
    "    return images,masks"
   ]
  },
  {
   "cell_type": "code",
   "execution_count": null,
   "metadata": {
    "id": "VN7ztQUgIAHX"
   },
   "outputs": [],
   "source": [
    "#Define model\n",
    "\n",
    "import numpy as np\n",
    "import os\n",
    "import skimage.io as io\n",
    "import skimage.transform as trans\n",
    "import numpy as np\n",
    "import tensorflow as tf\n",
    "from tensorflow.keras.models import *\n",
    "from tensorflow.keras.layers import *\n",
    "from tensorflow.keras.optimizers import *\n",
    "from tensorflow.keras.callbacks import ModelCheckpoint, LearningRateScheduler\n",
    "from tensorflow.keras import backend as keras\n",
    "\n",
    "def unet(input_size = (256,256,3)):\n",
    "\n",
    "    inputs = Input(input_size)\n",
    "    conv1 = Conv2D(16, 3, activation = 'relu', padding = 'same', kernel_initializer = 'he_normal')(inputs)\n",
    "    conv1 = Conv2D(16, 3, activation = 'relu', padding = 'same', kernel_initializer = 'he_normal')(conv1)\n",
    "    pool1 = MaxPooling2D(pool_size=(2, 2))(conv1)\n",
    "    conv2 = Conv2D(32, 3, activation = 'relu', padding = 'same', kernel_initializer = 'he_normal')(pool1)\n",
    "    conv2 = Conv2D(32, 3, activation = 'relu', padding = 'same', kernel_initializer = 'he_normal')(conv2)\n",
    "    pool2 = MaxPooling2D(pool_size=(2, 2))(conv2)\n",
    "    conv3 = Conv2D(64, 3, activation = 'relu', padding = 'same', kernel_initializer = 'he_normal')(pool2)\n",
    "    conv3 = Conv2D(64, 3, activation = 'relu', padding = 'same', kernel_initializer = 'he_normal')(conv3)\n",
    "    pool3 = MaxPooling2D(pool_size=(2, 2))(conv3)\n",
    "    conv4 = Conv2D(128, 3, activation = 'relu', padding = 'same', kernel_initializer = 'he_normal')(pool3)\n",
    "    conv4 = Conv2D(128, 3, activation = 'relu', padding = 'same', kernel_initializer = 'he_normal')(conv4)\n",
    "    drop4 = Dropout(0.5)(conv4)\n",
    "    pool4 = MaxPooling2D(pool_size=(2, 2))(drop4)\n",
    "\n",
    "    conv5 = Conv2D(512, 3, activation = 'relu', padding = 'same', kernel_initializer = 'he_normal')(pool4)\n",
    "    conv5 = Conv2D(512, 3, activation = 'relu', padding = 'same', kernel_initializer = 'he_normal')(conv5)\n",
    "    drop5 = Dropout(0.5)(conv5)\n",
    "\n",
    "    up6 = Conv2D(128, 2, activation = 'relu', padding = 'same', kernel_initializer = 'he_normal')(UpSampling2D(size = (2,2))(drop5))\n",
    "    merge6 = concatenate([drop4,up6], axis = 3)\n",
    "    conv6 = Conv2D(128, 3, activation = 'relu', padding = 'same', kernel_initializer = 'he_normal')(merge6)\n",
    "    conv6 = Conv2D(128, 3, activation = 'relu', padding = 'same', kernel_initializer = 'he_normal')(conv6)\n",
    "\n",
    "    up7 = Conv2D(64, 2, activation = 'relu', padding = 'same', kernel_initializer = 'he_normal')(UpSampling2D(size = (2,2))(conv6))\n",
    "    merge7 = concatenate([conv3,up7], axis = 3)\n",
    "    conv7 = Conv2D(64, 3, activation = 'relu', padding = 'same', kernel_initializer = 'he_normal')(merge7)\n",
    "    conv7 = Conv2D(64, 3, activation = 'relu', padding = 'same', kernel_initializer = 'he_normal')(conv7)\n",
    "\n",
    "    up8 = Conv2D(128, 2, activation = 'relu', padding = 'same', kernel_initializer = 'he_normal')(UpSampling2D(size = (2,2))(conv7))\n",
    "    merge8 = concatenate([conv2,up8], axis = 3)\n",
    "    conv8 = Conv2D(32, 3, activation = 'relu', padding = 'same', kernel_initializer = 'he_normal')(merge8)\n",
    "    conv8 = Conv2D(32, 3, activation = 'relu', padding = 'same', kernel_initializer = 'he_normal')(conv8)\n",
    "\n",
    "    up9 = Conv2D(16, 2, activation = 'relu', padding = 'same', kernel_initializer = 'he_normal')(UpSampling2D(size = (2,2))(conv8))\n",
    "    merge9 = concatenate([conv1,up9], axis = 3)\n",
    "    conv9 = Conv2D(16, 3, activation = 'relu', padding = 'same', kernel_initializer = 'he_normal')(merge9)\n",
    "    conv9 = Conv2D(16, 3, activation = 'relu', padding = 'same', kernel_initializer = 'he_normal')(conv9)\n",
    "    conv9 = Conv2D(1, 3, activation = 'sigmoid', padding = 'same', kernel_initializer = 'he_normal')(conv9)\n",
    "\n",
    "    conv9 = tf.squeeze(conv9,axis=3)\n",
    "\n",
    "    model = Model(inputs = inputs, outputs = conv9)\n",
    "\n",
    "    model.compile(optimizer = Adam(lr = 1e-4,amsgrad=True), loss = tf.keras.losses.BinaryCrossentropy())\n",
    "\n",
    "    model.summary()\n",
    "\n",
    "    return model"
   ]
  },
  {
   "cell_type": "code",
   "execution_count": null,
   "metadata": {
    "colab": {
     "base_uri": "https://localhost:8080/"
    },
    "id": "ghQ8I4DtILy_",
    "outputId": "7aad6315-d498-470e-b114-39ef848309d4"
   },
   "outputs": [
    {
     "name": "stderr",
     "output_type": "stream",
     "text": [
      "WARNING:absl:`lr` is deprecated in Keras optimizer, please use `learning_rate` or use the legacy optimizer, e.g.,tf.keras.optimizers.legacy.Adam.\n"
     ]
    },
    {
     "name": "stdout",
     "output_type": "stream",
     "text": [
      "Model: \"model\"\n",
      "__________________________________________________________________________________________________\n",
      " Layer (type)                Output Shape                 Param #   Connected to                  \n",
      "==================================================================================================\n",
      " input_1 (InputLayer)        [(None, 256, 256, 3)]        0         []                            \n",
      "                                                                                                  \n",
      " conv2d (Conv2D)             (None, 256, 256, 16)         448       ['input_1[0][0]']             \n",
      "                                                                                                  \n",
      " conv2d_1 (Conv2D)           (None, 256, 256, 16)         2320      ['conv2d[0][0]']              \n",
      "                                                                                                  \n",
      " max_pooling2d (MaxPooling2  (None, 128, 128, 16)         0         ['conv2d_1[0][0]']            \n",
      " D)                                                                                               \n",
      "                                                                                                  \n",
      " conv2d_2 (Conv2D)           (None, 128, 128, 32)         4640      ['max_pooling2d[0][0]']       \n",
      "                                                                                                  \n",
      " conv2d_3 (Conv2D)           (None, 128, 128, 32)         9248      ['conv2d_2[0][0]']            \n",
      "                                                                                                  \n",
      " max_pooling2d_1 (MaxPoolin  (None, 64, 64, 32)           0         ['conv2d_3[0][0]']            \n",
      " g2D)                                                                                             \n",
      "                                                                                                  \n",
      " conv2d_4 (Conv2D)           (None, 64, 64, 64)           18496     ['max_pooling2d_1[0][0]']     \n",
      "                                                                                                  \n",
      " conv2d_5 (Conv2D)           (None, 64, 64, 64)           36928     ['conv2d_4[0][0]']            \n",
      "                                                                                                  \n",
      " max_pooling2d_2 (MaxPoolin  (None, 32, 32, 64)           0         ['conv2d_5[0][0]']            \n",
      " g2D)                                                                                             \n",
      "                                                                                                  \n",
      " conv2d_6 (Conv2D)           (None, 32, 32, 128)          73856     ['max_pooling2d_2[0][0]']     \n",
      "                                                                                                  \n",
      " conv2d_7 (Conv2D)           (None, 32, 32, 128)          147584    ['conv2d_6[0][0]']            \n",
      "                                                                                                  \n",
      " dropout (Dropout)           (None, 32, 32, 128)          0         ['conv2d_7[0][0]']            \n",
      "                                                                                                  \n",
      " max_pooling2d_3 (MaxPoolin  (None, 16, 16, 128)          0         ['dropout[0][0]']             \n",
      " g2D)                                                                                             \n",
      "                                                                                                  \n",
      " conv2d_8 (Conv2D)           (None, 16, 16, 512)          590336    ['max_pooling2d_3[0][0]']     \n",
      "                                                                                                  \n",
      " conv2d_9 (Conv2D)           (None, 16, 16, 512)          2359808   ['conv2d_8[0][0]']            \n",
      "                                                                                                  \n",
      " dropout_1 (Dropout)         (None, 16, 16, 512)          0         ['conv2d_9[0][0]']            \n",
      "                                                                                                  \n",
      " up_sampling2d (UpSampling2  (None, 32, 32, 512)          0         ['dropout_1[0][0]']           \n",
      " D)                                                                                               \n",
      "                                                                                                  \n",
      " conv2d_10 (Conv2D)          (None, 32, 32, 128)          262272    ['up_sampling2d[0][0]']       \n",
      "                                                                                                  \n",
      " concatenate (Concatenate)   (None, 32, 32, 256)          0         ['dropout[0][0]',             \n",
      "                                                                     'conv2d_10[0][0]']           \n",
      "                                                                                                  \n",
      " conv2d_11 (Conv2D)          (None, 32, 32, 128)          295040    ['concatenate[0][0]']         \n",
      "                                                                                                  \n",
      " conv2d_12 (Conv2D)          (None, 32, 32, 128)          147584    ['conv2d_11[0][0]']           \n",
      "                                                                                                  \n",
      " up_sampling2d_1 (UpSamplin  (None, 64, 64, 128)          0         ['conv2d_12[0][0]']           \n",
      " g2D)                                                                                             \n",
      "                                                                                                  \n",
      " conv2d_13 (Conv2D)          (None, 64, 64, 64)           32832     ['up_sampling2d_1[0][0]']     \n",
      "                                                                                                  \n",
      " concatenate_1 (Concatenate  (None, 64, 64, 128)          0         ['conv2d_5[0][0]',            \n",
      " )                                                                   'conv2d_13[0][0]']           \n",
      "                                                                                                  \n",
      " conv2d_14 (Conv2D)          (None, 64, 64, 64)           73792     ['concatenate_1[0][0]']       \n",
      "                                                                                                  \n",
      " conv2d_15 (Conv2D)          (None, 64, 64, 64)           36928     ['conv2d_14[0][0]']           \n",
      "                                                                                                  \n",
      " up_sampling2d_2 (UpSamplin  (None, 128, 128, 64)         0         ['conv2d_15[0][0]']           \n",
      " g2D)                                                                                             \n",
      "                                                                                                  \n",
      " conv2d_16 (Conv2D)          (None, 128, 128, 128)        32896     ['up_sampling2d_2[0][0]']     \n",
      "                                                                                                  \n",
      " concatenate_2 (Concatenate  (None, 128, 128, 160)        0         ['conv2d_3[0][0]',            \n",
      " )                                                                   'conv2d_16[0][0]']           \n",
      "                                                                                                  \n",
      " conv2d_17 (Conv2D)          (None, 128, 128, 32)         46112     ['concatenate_2[0][0]']       \n",
      "                                                                                                  \n",
      " conv2d_18 (Conv2D)          (None, 128, 128, 32)         9248      ['conv2d_17[0][0]']           \n",
      "                                                                                                  \n",
      " up_sampling2d_3 (UpSamplin  (None, 256, 256, 32)         0         ['conv2d_18[0][0]']           \n",
      " g2D)                                                                                             \n",
      "                                                                                                  \n",
      " conv2d_19 (Conv2D)          (None, 256, 256, 16)         2064      ['up_sampling2d_3[0][0]']     \n",
      "                                                                                                  \n",
      " concatenate_3 (Concatenate  (None, 256, 256, 32)         0         ['conv2d_1[0][0]',            \n",
      " )                                                                   'conv2d_19[0][0]']           \n",
      "                                                                                                  \n",
      " conv2d_20 (Conv2D)          (None, 256, 256, 16)         4624      ['concatenate_3[0][0]']       \n",
      "                                                                                                  \n",
      " conv2d_21 (Conv2D)          (None, 256, 256, 16)         2320      ['conv2d_20[0][0]']           \n",
      "                                                                                                  \n",
      " conv2d_22 (Conv2D)          (None, 256, 256, 1)          145       ['conv2d_21[0][0]']           \n",
      "                                                                                                  \n",
      " tf.compat.v1.squeeze (TFOp  (None, 256, 256)             0         ['conv2d_22[0][0]']           \n",
      " Lambda)                                                                                          \n",
      "                                                                                                  \n",
      "==================================================================================================\n",
      "Total params: 4189521 (15.98 MB)\n",
      "Trainable params: 4189521 (15.98 MB)\n",
      "Non-trainable params: 0 (0.00 Byte)\n",
      "__________________________________________________________________________________________________\n"
     ]
    }
   ],
   "source": [
    "#Initilize the model\n",
    "\n",
    "model_file = './model.hdf5'\n",
    "\n",
    "model = unet()\n"
   ]
  },
  {
   "cell_type": "code",
   "execution_count": null,
   "metadata": {
    "colab": {
     "base_uri": "https://localhost:8080/",
     "height": 427
    },
    "id": "X-L64r7hLtGg",
    "outputId": "5c67203b-4bc3-4de8-8bbd-0272a4a73304"
   },
   "outputs": [
    {
     "ename": "ValueError",
     "evalue": "ignored",
     "output_type": "error",
     "traceback": [
      "\u001b[0;31m---------------------------------------------------------------------------\u001b[0m",
      "\u001b[0;31mValueError\u001b[0m                                Traceback (most recent call last)",
      "\u001b[0;32m<ipython-input-18-7d44ba74c89f>\u001b[0m in \u001b[0;36m<cell line: 3>\u001b[0;34m()\u001b[0m\n\u001b[1;32m      1\u001b[0m \u001b[0;31m#Load train data\u001b[0m\u001b[0;34m\u001b[0m\u001b[0;34m\u001b[0m\u001b[0m\n\u001b[1;32m      2\u001b[0m \u001b[0;34m\u001b[0m\u001b[0m\n\u001b[0;32m----> 3\u001b[0;31m \u001b[0mtrain_images\u001b[0m\u001b[0;34m,\u001b[0m \u001b[0mtrain_masks\u001b[0m \u001b[0;34m=\u001b[0m \u001b[0mload_data\u001b[0m\u001b[0;34m(\u001b[0m\u001b[0mdata_folder\u001b[0m\u001b[0;34m,\u001b[0m \u001b[0mmode\u001b[0m\u001b[0;34m=\u001b[0m\u001b[0;34m'train'\u001b[0m\u001b[0;34m)\u001b[0m\u001b[0;34m\u001b[0m\u001b[0;34m\u001b[0m\u001b[0m\n\u001b[0m\u001b[1;32m      4\u001b[0m \u001b[0mtrain_images\u001b[0m \u001b[0;34m=\u001b[0m \u001b[0mnp\u001b[0m\u001b[0;34m.\u001b[0m\u001b[0marray\u001b[0m\u001b[0;34m(\u001b[0m\u001b[0mtrain_images\u001b[0m\u001b[0;34m)\u001b[0m\u001b[0;34m\u001b[0m\u001b[0;34m\u001b[0m\u001b[0m\n\u001b[1;32m      5\u001b[0m \u001b[0mtrain_masks\u001b[0m \u001b[0;34m=\u001b[0m \u001b[0mnp\u001b[0m\u001b[0;34m.\u001b[0m\u001b[0marray\u001b[0m\u001b[0;34m(\u001b[0m\u001b[0mtrain_masks\u001b[0m\u001b[0;34m)\u001b[0m\u001b[0;34m\u001b[0m\u001b[0;34m\u001b[0m\u001b[0m\n",
      "\u001b[0;32m<ipython-input-15-904174c6c70b>\u001b[0m in \u001b[0;36mload_data\u001b[0;34m(folder, mode)\u001b[0m\n\u001b[1;32m     14\u001b[0m \u001b[0;34m\u001b[0m\u001b[0m\n\u001b[1;32m     15\u001b[0m     \u001b[0mrandom_seed\u001b[0m \u001b[0;34m=\u001b[0m \u001b[0;36m42\u001b[0m\u001b[0;34m\u001b[0m\u001b[0;34m\u001b[0m\u001b[0m\n\u001b[0;32m---> 16\u001b[0;31m     \u001b[0mtrain_mask_paths\u001b[0m\u001b[0;34m,\u001b[0m \u001b[0mtest_mask_paths\u001b[0m \u001b[0;34m=\u001b[0m \u001b[0mtrain_test_split\u001b[0m\u001b[0;34m(\u001b[0m\u001b[0mmask_paths\u001b[0m\u001b[0;34m,\u001b[0m \u001b[0mtest_size\u001b[0m\u001b[0;34m=\u001b[0m\u001b[0;36m0.2\u001b[0m\u001b[0;34m,\u001b[0m \u001b[0mrandom_state\u001b[0m\u001b[0;34m=\u001b[0m\u001b[0mrandom_seed\u001b[0m\u001b[0;34m)\u001b[0m\u001b[0;34m\u001b[0m\u001b[0;34m\u001b[0m\u001b[0m\n\u001b[0m\u001b[1;32m     17\u001b[0m \u001b[0;34m\u001b[0m\u001b[0m\n\u001b[1;32m     18\u001b[0m     \u001b[0mmask_paths\u001b[0m \u001b[0;34m=\u001b[0m \u001b[0mtrain_mask_paths\u001b[0m \u001b[0;32mif\u001b[0m \u001b[0mmode\u001b[0m \u001b[0;34m==\u001b[0m \u001b[0;34m'train'\u001b[0m \u001b[0;32melse\u001b[0m \u001b[0mtest_mask_paths\u001b[0m\u001b[0;34m\u001b[0m\u001b[0;34m\u001b[0m\u001b[0m\n",
      "\u001b[0;32m/usr/local/lib/python3.10/dist-packages/sklearn/model_selection/_split.py\u001b[0m in \u001b[0;36mtrain_test_split\u001b[0;34m(test_size, train_size, random_state, shuffle, stratify, *arrays)\u001b[0m\n\u001b[1;32m   2560\u001b[0m \u001b[0;34m\u001b[0m\u001b[0m\n\u001b[1;32m   2561\u001b[0m     \u001b[0mn_samples\u001b[0m \u001b[0;34m=\u001b[0m \u001b[0m_num_samples\u001b[0m\u001b[0;34m(\u001b[0m\u001b[0marrays\u001b[0m\u001b[0;34m[\u001b[0m\u001b[0;36m0\u001b[0m\u001b[0;34m]\u001b[0m\u001b[0;34m)\u001b[0m\u001b[0;34m\u001b[0m\u001b[0;34m\u001b[0m\u001b[0m\n\u001b[0;32m-> 2562\u001b[0;31m     n_train, n_test = _validate_shuffle_split(\n\u001b[0m\u001b[1;32m   2563\u001b[0m         \u001b[0mn_samples\u001b[0m\u001b[0;34m,\u001b[0m \u001b[0mtest_size\u001b[0m\u001b[0;34m,\u001b[0m \u001b[0mtrain_size\u001b[0m\u001b[0;34m,\u001b[0m \u001b[0mdefault_test_size\u001b[0m\u001b[0;34m=\u001b[0m\u001b[0;36m0.25\u001b[0m\u001b[0;34m\u001b[0m\u001b[0;34m\u001b[0m\u001b[0m\n\u001b[1;32m   2564\u001b[0m     )\n",
      "\u001b[0;32m/usr/local/lib/python3.10/dist-packages/sklearn/model_selection/_split.py\u001b[0m in \u001b[0;36m_validate_shuffle_split\u001b[0;34m(n_samples, test_size, train_size, default_test_size)\u001b[0m\n\u001b[1;32m   2234\u001b[0m \u001b[0;34m\u001b[0m\u001b[0m\n\u001b[1;32m   2235\u001b[0m     \u001b[0;32mif\u001b[0m \u001b[0mn_train\u001b[0m \u001b[0;34m==\u001b[0m \u001b[0;36m0\u001b[0m\u001b[0;34m:\u001b[0m\u001b[0;34m\u001b[0m\u001b[0;34m\u001b[0m\u001b[0m\n\u001b[0;32m-> 2236\u001b[0;31m         raise ValueError(\n\u001b[0m\u001b[1;32m   2237\u001b[0m             \u001b[0;34m\"With n_samples={}, test_size={} and train_size={}, the \"\u001b[0m\u001b[0;34m\u001b[0m\u001b[0;34m\u001b[0m\u001b[0m\n\u001b[1;32m   2238\u001b[0m             \u001b[0;34m\"resulting train set will be empty. Adjust any of the \"\u001b[0m\u001b[0;34m\u001b[0m\u001b[0;34m\u001b[0m\u001b[0m\n",
      "\u001b[0;31mValueError\u001b[0m: With n_samples=0, test_size=0.2 and train_size=None, the resulting train set will be empty. Adjust any of the aforementioned parameters."
     ]
    }
   ],
   "source": [
    "#Load train data\n",
    "\n",
    "train_images, train_masks = load_data(data_folder, mode='train')\n",
    "train_images = np.array(train_images)\n",
    "train_masks = np.array(train_masks)"
   ]
  },
  {
   "cell_type": "code",
   "execution_count": null,
   "metadata": {
    "id": "3jGVDMbDM44e"
   },
   "outputs": [],
   "source": [
    "# Visualize some images\n",
    "\n",
    "# Randomly sample 10 images\n",
    "selected_indices = np.random.choice(len(train_images), size=10, replace=False)\n",
    "selected_images = train_images[selected_indices]\n",
    "\n",
    "# Set up the figure with multiple subplots\n",
    "fig, axs = plt.subplots(2, 5, figsize=(12, 6))\n",
    "fig.suptitle('Randomly sampled tissue images')\n",
    "\n",
    "# Display the randomly sampled images\n",
    "for i, ax in enumerate(axs.flatten()):\n",
    "    ax.imshow(selected_images[i])\n",
    "    ax.axis('off')  # Turn off axis labels\n",
    "    ax.set_title(f'Image {selected_indices[i] + 1}')\n",
    "\n",
    "plt.show()"
   ]
  },
  {
   "cell_type": "code",
   "execution_count": null,
   "metadata": {
    "id": "Qntou9VqNiHc"
   },
   "outputs": [],
   "source": [
    "# Visualize some masks\n",
    "\n",
    "# Randomly sample 10 images\n",
    "selected_indices = np.random.choice(len(train_masks), size=10, replace=False)\n",
    "selected_images = train_masks[selected_indices]\n",
    "\n",
    "# Set up the figure with multiple subplots\n",
    "fig, axs = plt.subplots(2, 5, figsize=(12, 6))\n",
    "fig.suptitle('Randomly sampled masks')\n",
    "\n",
    "# Display the randomly sampled binary images\n",
    "for i, ax in enumerate(axs.flatten()):\n",
    "    ax.imshow(selected_images[i], cmap='gray', vmin=0, vmax=1)  # Assuming the images are binary\n",
    "    ax.axis('off')  # Turn off axis labels\n",
    "    ax.set_title(f'Image {selected_indices[i] + 1}')\n",
    "\n",
    "plt.show()\n"
   ]
  },
  {
   "cell_type": "code",
   "execution_count": null,
   "metadata": {
    "id": "jBfrki7JIX5P"
   },
   "outputs": [],
   "source": [
    "#Train the model\n",
    "\n",
    "model_checkpoint = ModelCheckpoint(model_file, monitor='loss',verbose=1, save_best_only=True)\n",
    "es = tf.keras.callbacks.EarlyStopping(monitor='val_loss', mode='min', verbose=1, patience=10)\n",
    "\n",
    "model.fit(x=train_images,\n",
    "          y=train_masks,\n",
    "          batch_size=batch_size,\n",
    "          epochs=epochs,\n",
    "          shuffle=True,\n",
    "          validation_split=0.1,\n",
    "          callbacks=[model_checkpoint,es])"
   ]
  },
  {
   "cell_type": "code",
   "execution_count": null,
   "metadata": {
    "id": "pdAKAsHxMSKf"
   },
   "outputs": [],
   "source": [
    "# Load test data\n",
    "\n",
    "#Load train data\n",
    "\n",
    "test_images, test_masks = load_data(data_folder, mode='test')\n",
    "test_images = np.array(test_images)\n",
    "test_masks = np.array(test_masks)"
   ]
  },
  {
   "cell_type": "code",
   "execution_count": null,
   "metadata": {
    "id": "AFmR6QyXJB5x"
   },
   "outputs": [],
   "source": [
    "#Test the model\n",
    "\n",
    "def binarize_segmentation_outputs(x):\n",
    "    x[x < 0.5] = 0\n",
    "    x[x >= 0.5] = 1.0\n",
    "    return x\n",
    "\n",
    "def net_dice_score(ground_truth_images, predicted_images):\n",
    "    l = len(ground_truth_images)\n",
    "    dice_score = 0\n",
    "    for i in range(0,l):\n",
    "        dice_score += compute_dice_score(ground_truth_images[i],predicted_images[i])\n",
    "    dice_score=dice_score/l*1.0\n",
    "    return dice_score\n",
    "\n",
    "pred_masks = model.predict(test_images, verbose=1, batch_size=1)\n",
    "\n",
    "pred_masks = [binarize_segmentation_outputs(x) for x in pred_masks]\n",
    "\n",
    "dice_score = net_dice_score(test_masks, pred_masks)\n",
    "\n",
    "print(\"DICE Score: \", dice_score)"
   ]
  },
  {
   "cell_type": "code",
   "execution_count": null,
   "metadata": {
    "id": "VIs6D2-DK0xm"
   },
   "outputs": [],
   "source": [
    "#Visualize some predictions\n",
    "\n",
    "\n",
    "l = len(test_masks)\n",
    "\n",
    "random_number = random.randint(0, l)\n",
    "\n",
    "# Set up the figure with two subplots\n",
    "fig, axs = plt.subplots(1, 2, figsize=(10, 5))\n",
    "\n",
    "# Display the first binary image with a caption\n",
    "axs[0].imshow(test_masks[random_number], cmap='gray', vmin=0, vmax=1)\n",
    "axs[0].set_title('Real Mask')\n",
    "\n",
    "# Display the second binary image with a caption\n",
    "axs[1].imshow(pred_masks[random_number], cmap='gray', vmin=0, vmax=1)\n",
    "axs[1].set_title('Predicted Mask')\n",
    "\n",
    "# Show the figure\n",
    "plt.show()"
   ]
  }
 ],
 "metadata": {
  "colab": {
   "provenance": []
  },
  "kernelspec": {
   "display_name": "Python 3 (ipykernel)",
   "language": "python",
   "name": "python3"
  },
  "language_info": {
   "codemirror_mode": {
    "name": "ipython",
    "version": 3
   },
   "file_extension": ".py",
   "mimetype": "text/x-python",
   "name": "python",
   "nbconvert_exporter": "python",
   "pygments_lexer": "ipython3",
   "version": "3.11.4"
  }
 },
 "nbformat": 4,
 "nbformat_minor": 1
}
